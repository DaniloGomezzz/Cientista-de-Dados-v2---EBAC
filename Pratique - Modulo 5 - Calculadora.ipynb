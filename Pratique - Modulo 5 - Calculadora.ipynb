{
 "cells": [
  {
   "cell_type": "markdown",
   "id": "c229f434",
   "metadata": {},
   "source": [
    "# Pratique - Módulo 5\n",
    "## Calculadora com Menu"
   ]
  },
  {
   "cell_type": "markdown",
   "id": "1980bb03",
   "metadata": {},
   "source": [
    "### Questões:\n",
    "\n",
    "1. Utilize o comando ‘input’ para receber ao menos 2 números de entrada do usuário.\n",
    "\n",
    "2. Converta os valores recebidos pelo usuário para número inteiro (int) ou ponto flutuante (float).\n",
    "\n",
    "3. Implemente ao menos 4 operações matemáticas em seu código;\n",
    "\n",
    "4. Adicione um laço de repetição ou uma condicional. Por exemplo: você pode permitir que o usuário escolha qual operação realizar ou criar um loop que permita ao usuário realizar várias operações consecutivas;\n",
    "\n",
    "5. Utilize o comando ‘print’ para exibir o resultado da operação matemática.\n"
   ]
  },
  {
   "cell_type": "code",
   "execution_count": 22,
   "id": "1de63c93",
   "metadata": {},
   "outputs": [
    {
     "name": "stdout",
     "output_type": "stream",
     "text": [
      "Deseja valores Inteiros (1) ou Decimais (2)2\n",
      "Informe um valor inteiro para X: 9\n",
      "Informe um valor inteiro para Y: 3\n",
      "Os valores decimais informados foram: 9.0 e 3.0\n"
     ]
    }
   ],
   "source": [
    "# Questões 1 e 2\n",
    "\n",
    "opcao1 = int(input('Deseja valores Inteiros (1) ou Decimais (2)'))\n",
    "\n",
    "if opcao1 == 1:\n",
    "    x = int(input('Informe um valor inteiro para X: '))\n",
    "    y = int(input('Informe um valor inteiro para Y: '))\n",
    "    print('Os valores inteiros informados foram:', x, 'e', y)\n",
    "\n",
    "else:\n",
    "    x = float(input('Informe um valor inteiro para X: '))\n",
    "    y = float(input('Informe um valor inteiro para Y: '))\n",
    "    print('Os valores decimais informados foram:', x, 'e', y)"
   ]
  },
  {
   "cell_type": "code",
   "execution_count": 24,
   "id": "0ebc0237",
   "metadata": {},
   "outputs": [
    {
     "name": "stdout",
     "output_type": "stream",
     "text": [
      "~~~Calculadora~~~\n",
      "[1] Soma\n",
      "[2] Subtração\n",
      "[3] Multiplicação\n",
      "[4] Divisão\n",
      "[5] Exponencial\n",
      "[9] Sair da Calculadora\n",
      "\n",
      "Qual operação deseja realizar? 5\n",
      "O resultado da Exponencial é igual a: 729.0\n",
      "\n",
      "\n",
      "[1] Soma\n",
      "[2] Subtração\n",
      "[3] Multiplicação\n",
      "[4] Divisão\n",
      "[5] Exponencial\n",
      "[9] Sair da Calculadora\n",
      "\n",
      "Qual operação deseja realizar? 9\n",
      "Finalizando a Calculadora...\n",
      "\n",
      "\n"
     ]
    }
   ],
   "source": [
    "# Questões 3, 4 e 5\n",
    "\n",
    "print(\"~~~Calculadora~~~\")\n",
    "\n",
    "opcao2 = 0\n",
    "\n",
    "while opcao2 != 9:\n",
    "    \n",
    "    print('[1] Soma')\n",
    "    print('[2] Subtração')\n",
    "    print('[3] Multiplicação')\n",
    "    print('[4] Divisão')\n",
    "    print('[5] Exponencial')\n",
    "    print('[9] Sair da Calculadora')\n",
    "    \n",
    "    opcao2 = int(input('\\nQual operação deseja realizar? '))\n",
    "    \n",
    "    \n",
    "    if opcao2 == 1:\n",
    "        print('O resultado da Soma é igual a:', x + y)\n",
    "        print('\\n')\n",
    "        \n",
    "    elif opcao2 == 2:\n",
    "        print('O resultado da Subtração é igual a:', x - y)\n",
    "        print('\\n')\n",
    "        \n",
    "    elif opcao2 == 3:\n",
    "        print('O resultado da Multiplicação é igual a:', x * y)\n",
    "        print('\\n')\n",
    "        \n",
    "    elif opcao2 == 4:\n",
    "        print('O resultado da Divisão é igual a:', x / y)\n",
    "        print('\\n')\n",
    "        \n",
    "    elif opcao2 == 5:\n",
    "        print('O resultado da Exponencial é igual a:', x ** y)\n",
    "        print('\\n')\n",
    "        \n",
    "    elif opcao2 == 9:\n",
    "        print('Finalizando a Calculadora...')\n",
    "        print('\\n')\n",
    "        break\n",
    "        \n",
    "    else:\n",
    "        print(\"ERROR - Opção inválida, por favor tente novamente...\")\n",
    "        print('\\n')"
   ]
  }
 ],
 "metadata": {
  "kernelspec": {
   "display_name": "Python 3 (ipykernel)",
   "language": "python",
   "name": "python3"
  },
  "language_info": {
   "codemirror_mode": {
    "name": "ipython",
    "version": 3
   },
   "file_extension": ".py",
   "mimetype": "text/x-python",
   "name": "python",
   "nbconvert_exporter": "python",
   "pygments_lexer": "ipython3",
   "version": "3.11.7"
  }
 },
 "nbformat": 4,
 "nbformat_minor": 5
}
